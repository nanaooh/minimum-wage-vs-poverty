{
 "cells": [
  {
   "cell_type": "markdown",
   "id": "9e8cf116",
   "metadata": {},
   "source": [
    "#Investigating the Relationship Between Minimum Wage and Poverty Rate Across U.S. States\n",
    "##By: Giovanni Carrion, Yianni Pena\n",
    "Example notebooks \n",
    "\n",
    "1. list 1\n",
    "2. list 2"
   ]
  },
  {
   "cell_type": "markdown",
   "id": "7c17dde2",
   "metadata": {},
   "source": [
    "Intro-\n",
    "##Research Question:\n",
    "Does a higher state-level minimum wage correlate with a lower poverty rate in the United States?\n",
    "\n",
    "##Its Significance:\n",
    "The minimum wage scale is a highly debated policy topic in the U.S. In this project, we'll be exploring the relationship between state-level minimum wages and poverty rates, testing to see whether states with higher minimum wages tend to have lower poverty rates– a critical insight for policy making."
   ]
  },
  {
   "cell_type": "markdown",
   "id": "e8463394",
   "metadata": {},
   "source": [
    "Data Collection–\n",
    "\n",
    "We'll be using different sets of data to support this Research Question.\n",
    "Minimum wage data will be obatained from the U.S Department of Labor, and poverty rate data will be obtained from the U.S. Census Bureau."
   ]
  },
  {
   "cell_type": "code",
   "execution_count": null,
   "id": "ab90bfed",
   "metadata": {},
   "outputs": [],
   "source": [
    "import pandas as pd\n",
    "\n",
    "pd.set_option('display.max_colwidth', None) # shows full text\n",
    "\n",
    "wage_data = pd.read_csv(\"minimum_wage.csv\", encoding='latin1') # latin1 encoding to handle special characters\n",
    "poverty_data = pd.read_csv(\"poverty_rate.csv\")\n",
    "\n",
    "pd.set_option('display.max_rows', None)\n",
    "\n",
    "display(wage_data)\n",
    "display(poverty_data)"
   ]
  },
  {
   "cell_type": "code",
   "execution_count": null,
   "id": "24578716",
   "metadata": {},
   "outputs": [],
   "source": [
    "merged_data = pd.merge(wage_data, poverty_data, on=\"State\")\n",
    "\n",
    "merged_data.head()"
   ]
  },
  {
   "cell_type": "markdown",
   "id": "840cbf9b",
   "metadata": {},
   "source": [
    "Data Visual/Univariate Analysis"
   ]
  },
  {
   "cell_type": "markdown",
   "id": "5cf7772b",
   "metadata": {},
   "source": [
    "Statisical Analysis/Bivirate Analysis"
   ]
  },
  {
   "cell_type": "markdown",
   "id": "6b5a8483",
   "metadata": {},
   "source": [
    "Conclusion,etc"
   ]
  },
  {
   "cell_type": "code",
   "execution_count": 9,
   "id": "a1036974-7824-489f-ae8a-62ee502d643b",
   "metadata": {},
   "outputs": [
    {
     "name": "stdout",
     "output_type": "stream",
     "text": [
      "Test push to GitHub\n"
     ]
    }
   ],
   "source": [
    "print(\"Test push to GitHub\")"
   ]
  }
 ],
 "metadata": {
  "kernelspec": {
   "display_name": "Python 3",
   "language": "python",
   "name": "python3"
  },
  "language_info": {
   "codemirror_mode": {
    "name": "ipython",
    "version": 3
   },
   "file_extension": ".py",
   "mimetype": "text/x-python",
   "name": "python",
   "nbconvert_exporter": "python",
   "pygments_lexer": "ipython3",
   "version": "3.13.0"
  }
 },
 "nbformat": 4,
 "nbformat_minor": 5
}
